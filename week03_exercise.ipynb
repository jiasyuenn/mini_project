{
 "cells": [
  {
   "cell_type": "code",
   "execution_count": 2,
   "id": "870c75f2",
   "metadata": {},
   "outputs": [
    {
     "data": {
      "text/plain": [
       "True"
      ]
     },
     "execution_count": 2,
     "metadata": {},
     "output_type": "execute_result"
    }
   ],
   "source": [
    "import sys\n",
    "assert sys.version_info >= (3,7)\n",
    "\n",
    "import numpy as np\n",
    "import cv2 as cv\n",
    "\n",
    "if not cv.useOptimized():\n",
    " cv.setUseOptimized(True)\n",
    " \n",
    "cv.useOptimized()"
   ]
  },
  {
   "cell_type": "markdown",
   "id": "13f99ce9",
   "metadata": {},
   "source": [
    "## Question 3"
   ]
  },
  {
   "cell_type": "code",
   "execution_count": 25,
   "id": "3ba01211",
   "metadata": {},
   "outputs": [],
   "source": [
    "cap = cv.VideoCapture(\"videos/img_pexels.mp4\")\n",
    "\n",
    "if not cap.isOpened():\n",
    "    sys.exit(\"No video detected\")\n",
    "    \n",
    "w, h = int(cap.get(3)), int(cap.get(4))\n",
    "smaller_w, smaller_h = int(w/2), int(h/3)\n",
    "\n",
    "#save \n",
    "# filename, fourcc, fps, frame size\n",
    "fourcc = cv.VideoWriter_fourcc(\"M\", \"J\", \"P\", \"G\")\n",
    "fps = 15\n",
    "out = cv.VideoWriter(\"videos/smaller_img_pexels.avi\", fourcc, fps, (smaller_w,smaller_h))\n",
    "    \n",
    "while True:\n",
    "    ret, frame = cap.read()\n",
    "    \n",
    "    if not ret:\n",
    "        print(\"No frame received!\")\n",
    "        break\n",
    "    \n",
    "    smaller_frame = cv.resize(frame, (smaller_w, smaller_h))\n",
    "    cv.imshow(\"frame\", smaller_frame)\n",
    "    out.write(smaller_frame)\n",
    "    \n",
    "    k = cv.waitKey(1) & 0xFF\n",
    "    if k == 27:\n",
    "        break\n",
    "    \n",
    "cap.release()\n",
    "out.release()\n",
    "cv.destroyAllWindows()"
   ]
  },
  {
   "cell_type": "markdown",
   "id": "b1bcf6b3",
   "metadata": {},
   "source": [
    "## Question 4"
   ]
  },
  {
   "cell_type": "code",
   "execution_count": 7,
   "id": "376f77f5",
   "metadata": {},
   "outputs": [],
   "source": [
    "img = cv.imread(\"images/dog.jfif\")\n",
    "img_linear=cv.resize(img,None,fx=1.5,fy=1.5,interpolation=cv.INTER_LINEAR)\n",
    "img_cubic=cv.resize(img,None,fx=1.5,fy=1.5,interpolation=cv.INTER_CUBIC)\n",
    "img_nearest=cv.resize(img,None,fx=1.5,fy=1.5,interpolation=cv.INTER_NEAREST)\n",
    "cv.imshow(\"ori\",img)\n",
    "cv.imshow(\"linear\",img_linear)\n",
    "cv.imshow(\"cubic\",img_cubic)\n",
    "cv.imshow(\"nearest\",img_nearest)\n",
    "cv.waitKey(0)\n",
    "cv.destroyAllWindows()"
   ]
  },
  {
   "cell_type": "code",
   "execution_count": null,
   "id": "6fff4e64",
   "metadata": {},
   "outputs": [],
   "source": []
  }
 ],
 "metadata": {
  "kernelspec": {
   "display_name": "Python 3 (ipykernel)",
   "language": "python",
   "name": "python3"
  },
  "language_info": {
   "codemirror_mode": {
    "name": "ipython",
    "version": 3
   },
   "file_extension": ".py",
   "mimetype": "text/x-python",
   "name": "python",
   "nbconvert_exporter": "python",
   "pygments_lexer": "ipython3",
   "version": "3.10.9"
  }
 },
 "nbformat": 4,
 "nbformat_minor": 5
}
